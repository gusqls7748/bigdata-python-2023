{
 "cells": [
  {
   "attachments": {},
   "cell_type": "markdown",
   "metadata": {},
   "source": [
    "#### 제주도 핫플레이스 인스타그램에서 크롤링하기\n",
    "\n",
    "##### matplotlib 한글설정\n",
    "\n",
    "##### 셀레니움 설정"
   ]
  },
  {
   "cell_type": "code",
   "execution_count": 1,
   "metadata": {},
   "outputs": [
    {
     "ename": "FileNotFoundError",
     "evalue": "[Errno 2] No such file or directory: 'C:\\\\Windows\\\\Fonts\\\\NanumGothic.ttf'",
     "output_type": "error",
     "traceback": [
      "\u001b[1;31m---------------------------------------------------------------------------\u001b[0m",
      "\u001b[1;31mFileNotFoundError\u001b[0m                         Traceback (most recent call last)",
      "Cell \u001b[1;32mIn[1], line 8\u001b[0m\n\u001b[0;32m      5\u001b[0m \u001b[39mimport\u001b[39;00m \u001b[39mseaborn\u001b[39;00m \u001b[39mas\u001b[39;00m \u001b[39msns\u001b[39;00m\n\u001b[0;32m      7\u001b[0m font_path \u001b[39m=\u001b[39m \u001b[39m'\u001b[39m\u001b[39mC:/Windows/Fonts/NanumGothic.ttf\u001b[39m\u001b[39m'\u001b[39m\n\u001b[1;32m----> 8\u001b[0m font \u001b[39m=\u001b[39m font_manager\u001b[39m.\u001b[39;49mFontProperties(fname\u001b[39m=\u001b[39;49mfont_path)\u001b[39m.\u001b[39;49mget_name() \u001b[39m# 'NanumGothic'\u001b[39;00m\n\u001b[0;32m      9\u001b[0m rc(\u001b[39m'\u001b[39m\u001b[39mfont\u001b[39m\u001b[39m'\u001b[39m, family\u001b[39m=\u001b[39mfont)\n\u001b[0;32m     10\u001b[0m rcParams[\u001b[39m'\u001b[39m\u001b[39maxes.unicode_minus\u001b[39m\u001b[39m'\u001b[39m] \u001b[39m=\u001b[39m \u001b[39mFalse\u001b[39;00m \n",
      "File \u001b[1;32mc:\\Program Files\\Python311\\Lib\\site-packages\\matplotlib\\font_manager.py:662\u001b[0m, in \u001b[0;36mFontProperties.get_name\u001b[1;34m(self)\u001b[0m\n\u001b[0;32m    658\u001b[0m \u001b[39mdef\u001b[39;00m \u001b[39mget_name\u001b[39m(\u001b[39mself\u001b[39m):\n\u001b[0;32m    659\u001b[0m \u001b[39m    \u001b[39m\u001b[39m\"\"\"\u001b[39;00m\n\u001b[0;32m    660\u001b[0m \u001b[39m    Return the name of the font that best matches the font properties.\u001b[39;00m\n\u001b[0;32m    661\u001b[0m \u001b[39m    \"\"\"\u001b[39;00m\n\u001b[1;32m--> 662\u001b[0m     \u001b[39mreturn\u001b[39;00m get_font(findfont(\u001b[39mself\u001b[39;49m))\u001b[39m.\u001b[39mfamily_name\n",
      "File \u001b[1;32mc:\\Program Files\\Python311\\Lib\\site-packages\\matplotlib\\_api\\deprecation.py:297\u001b[0m, in \u001b[0;36mrename_parameter.<locals>.wrapper\u001b[1;34m(*args, **kwargs)\u001b[0m\n\u001b[0;32m    292\u001b[0m     warn_deprecated(\n\u001b[0;32m    293\u001b[0m         since, message\u001b[39m=\u001b[39m\u001b[39mf\u001b[39m\u001b[39m\"\u001b[39m\u001b[39mThe \u001b[39m\u001b[39m{\u001b[39;00mold\u001b[39m!r}\u001b[39;00m\u001b[39m parameter of \u001b[39m\u001b[39m{\u001b[39;00mfunc\u001b[39m.\u001b[39m\u001b[39m__name__\u001b[39m\u001b[39m}\u001b[39;00m\u001b[39m() \u001b[39m\u001b[39m\"\u001b[39m\n\u001b[0;32m    294\u001b[0m         \u001b[39mf\u001b[39m\u001b[39m\"\u001b[39m\u001b[39mhas been renamed \u001b[39m\u001b[39m{\u001b[39;00mnew\u001b[39m!r}\u001b[39;00m\u001b[39m since Matplotlib \u001b[39m\u001b[39m{\u001b[39;00msince\u001b[39m}\u001b[39;00m\u001b[39m; support \u001b[39m\u001b[39m\"\u001b[39m\n\u001b[0;32m    295\u001b[0m         \u001b[39mf\u001b[39m\u001b[39m\"\u001b[39m\u001b[39mfor the old name will be dropped %(removal)s.\u001b[39m\u001b[39m\"\u001b[39m)\n\u001b[0;32m    296\u001b[0m     kwargs[new] \u001b[39m=\u001b[39m kwargs\u001b[39m.\u001b[39mpop(old)\n\u001b[1;32m--> 297\u001b[0m \u001b[39mreturn\u001b[39;00m func(\u001b[39m*\u001b[39;49margs, \u001b[39m*\u001b[39;49m\u001b[39m*\u001b[39;49mkwargs)\n",
      "File \u001b[1;32mc:\\Program Files\\Python311\\Lib\\site-packages\\matplotlib\\font_manager.py:1520\u001b[0m, in \u001b[0;36mget_font\u001b[1;34m(font_filepaths, hinting_factor)\u001b[0m\n\u001b[0;32m   1517\u001b[0m \u001b[39mif\u001b[39;00m hinting_factor \u001b[39mis\u001b[39;00m \u001b[39mNone\u001b[39;00m:\n\u001b[0;32m   1518\u001b[0m     hinting_factor \u001b[39m=\u001b[39m mpl\u001b[39m.\u001b[39mrcParams[\u001b[39m'\u001b[39m\u001b[39mtext.hinting_factor\u001b[39m\u001b[39m'\u001b[39m]\n\u001b[1;32m-> 1520\u001b[0m \u001b[39mreturn\u001b[39;00m _get_font(\n\u001b[0;32m   1521\u001b[0m     \u001b[39m# must be a tuple to be cached\u001b[39;49;00m\n\u001b[0;32m   1522\u001b[0m     paths,\n\u001b[0;32m   1523\u001b[0m     hinting_factor,\n\u001b[0;32m   1524\u001b[0m     _kerning_factor\u001b[39m=\u001b[39;49mmpl\u001b[39m.\u001b[39;49mrcParams[\u001b[39m'\u001b[39;49m\u001b[39mtext.kerning_factor\u001b[39;49m\u001b[39m'\u001b[39;49m],\n\u001b[0;32m   1525\u001b[0m     \u001b[39m# also key on the thread ID to prevent segfaults with multi-threading\u001b[39;49;00m\n\u001b[0;32m   1526\u001b[0m     thread_id\u001b[39m=\u001b[39;49mthreading\u001b[39m.\u001b[39;49mget_ident()\n\u001b[0;32m   1527\u001b[0m )\n",
      "File \u001b[1;32mc:\\Program Files\\Python311\\Lib\\site-packages\\matplotlib\\font_manager.py:1461\u001b[0m, in \u001b[0;36m_get_font\u001b[1;34m(font_filepaths, hinting_factor, _kerning_factor, thread_id)\u001b[0m\n\u001b[0;32m   1458\u001b[0m \u001b[39m@lru_cache\u001b[39m(\u001b[39m64\u001b[39m)\n\u001b[0;32m   1459\u001b[0m \u001b[39mdef\u001b[39;00m \u001b[39m_get_font\u001b[39m(font_filepaths, hinting_factor, \u001b[39m*\u001b[39m, _kerning_factor, thread_id):\n\u001b[0;32m   1460\u001b[0m     first_fontpath, \u001b[39m*\u001b[39mrest \u001b[39m=\u001b[39m font_filepaths\n\u001b[1;32m-> 1461\u001b[0m     \u001b[39mreturn\u001b[39;00m ft2font\u001b[39m.\u001b[39;49mFT2Font(\n\u001b[0;32m   1462\u001b[0m         first_fontpath, hinting_factor,\n\u001b[0;32m   1463\u001b[0m         _fallback_list\u001b[39m=\u001b[39;49m[\n\u001b[0;32m   1464\u001b[0m             ft2font\u001b[39m.\u001b[39;49mFT2Font(\n\u001b[0;32m   1465\u001b[0m                 fpath, hinting_factor,\n\u001b[0;32m   1466\u001b[0m                 _kerning_factor\u001b[39m=\u001b[39;49m_kerning_factor\n\u001b[0;32m   1467\u001b[0m             )\n\u001b[0;32m   1468\u001b[0m             \u001b[39mfor\u001b[39;49;00m fpath \u001b[39min\u001b[39;49;00m rest\n\u001b[0;32m   1469\u001b[0m         ],\n\u001b[0;32m   1470\u001b[0m         _kerning_factor\u001b[39m=\u001b[39;49m_kerning_factor\n\u001b[0;32m   1471\u001b[0m     )\n",
      "\u001b[1;31mFileNotFoundError\u001b[0m: [Errno 2] No such file or directory: 'C:\\\\Windows\\\\Fonts\\\\NanumGothic.ttf'"
     ]
    }
   ],
   "source": [
    "import matplotlib\n",
    "# from matplotlib import pyplot as plt\n",
    "import matplotlib.pyplot as plt\n",
    "from matplotlib import font_manager, rc, rcParams\n",
    "import seaborn as sns\n",
    "\n",
    "font_path = 'C:/Windows/Fonts/NanumGothic.ttf'\n",
    "font = font_manager.FontProperties(fname=font_path).get_name() # 'NanumGothic'\n",
    "rc('font', family=font)\n",
    "rcParams['axes.unicode_minus'] = False "
   ]
  },
  {
   "cell_type": "code",
   "execution_count": null,
   "metadata": {},
   "outputs": [],
   "source": [
    "# 셀레니움\n",
    "# 모듈 임포트\n",
    "from selenium import webdriver\n",
    "\n",
    "driver = webdriver.Chrome()\n",
    "url = 'https://www.instagram.com/explore/tags/%EC%A0%9C%EC%A3%BC%EB%8F%84%EB%A7%9B%EC%A7%91/'\n",
    "driver.get(url)"
   ]
  },
  {
   "attachments": {},
   "cell_type": "markdown",
   "metadata": {},
   "source": [
    "##### 첫번째 게시글 찾아서 클릭하기\n"
   ]
  },
  {
   "cell_type": "code",
   "execution_count": null,
   "metadata": {},
   "outputs": [],
   "source": [
    "from selenium.webdriver.common.by import By\n",
    "import time\n",
    "\n",
    "def select_first_post(driver):\n",
    "    first = driver.find_elements(By.CLASS_NAME, '_aagw')[0]\n",
    "    first.click()\n",
    "    time.sleep(3)\n",
    "\n",
    "select_first_post(driver)"
   ]
  },
  {
   "attachments": {},
   "cell_type": "markdown",
   "metadata": {},
   "source": [
    "##### 게시글 정보 가져오기"
   ]
  },
  {
   "cell_type": "code",
   "execution_count": null,
   "metadata": {},
   "outputs": [],
   "source": [
    "import re # RegularExpression 정규식 처리 모듈\n",
    "from bs4 import BeautifulSoup\n",
    "import unicodedata  # 유니코드 데이터 처리 모듈\n",
    "\n",
    "# 1. 데이터가져오기\n",
    "html = driver.page_source\n",
    "soup = BeautifulSoup(html, 'html.parser')\n",
    "\n",
    "# 2. 본문내용 찾아오기\n",
    "try:\n",
    "    content = soup.select('div._a9zr')[0].text    \n",
    "except:\n",
    "    content = ''\n",
    "\n",
    "# 3. 본문내용에서 해시태그 가져오기(정규식 활용)\n",
    "tags = re.findall(r'#[^\\s#,\\\\]+', content)\n",
    "\n",
    "# 4. 작성일자 정보\n",
    "date = soup.select('time._aaqe')[0]['datetime'][:10]\n",
    "date"
   ]
  },
  {
   "cell_type": "code",
   "execution_count": 2,
   "metadata": {},
   "outputs": [
    {
     "ename": "NameError",
     "evalue": "name 'results' is not defined",
     "output_type": "error",
     "traceback": [
      "\u001b[1;31m---------------------------------------------------------------------------\u001b[0m",
      "\u001b[1;31mNameError\u001b[0m                                 Traceback (most recent call last)",
      "Cell \u001b[1;32mIn[2], line 2\u001b[0m\n\u001b[0;32m      1\u001b[0m \u001b[39mimport\u001b[39;00m \u001b[39mpandas\u001b[39;00m \u001b[39mas\u001b[39;00m \u001b[39mpd\u001b[39;00m\n\u001b[1;32m----> 2\u001b[0m df \u001b[39m=\u001b[39m pd\u001b[39m.\u001b[39mDataFrame(results)\n\u001b[0;32m      3\u001b[0m df\n",
      "\u001b[1;31mNameError\u001b[0m: name 'results' is not defined"
     ]
    }
   ],
   "source": [
    "import pandas as pd\n",
    "df = pd.DataFrame(results)\n",
    "df"
   ]
  }
 ],
 "metadata": {
  "kernelspec": {
   "display_name": "Python 3",
   "language": "python",
   "name": "python3"
  },
  "language_info": {
   "codemirror_mode": {
    "name": "ipython",
    "version": 3
   },
   "file_extension": ".py",
   "mimetype": "text/x-python",
   "name": "python",
   "nbconvert_exporter": "python",
   "pygments_lexer": "ipython3",
   "version": "3.11.4"
  },
  "orig_nbformat": 4,
  "vscode": {
   "interpreter": {
    "hash": "5238573367df39f7286bb46f9ff5f08f63a01a80960060ce41e3c79b190280fa"
   }
  }
 },
 "nbformat": 4,
 "nbformat_minor": 2
}
