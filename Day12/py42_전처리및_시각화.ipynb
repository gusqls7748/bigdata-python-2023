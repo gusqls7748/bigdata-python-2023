{
 "cells": [
  {
   "attachments": {},
   "cell_type": "markdown",
   "metadata": {},
   "source": [
    "#### 데이터 전처리 및 시각화\n",
    "\n",
    "전처리\n",
    "\n",
    "데이터프레임 병합"
   ]
  },
  {
   "cell_type": "code",
   "execution_count": 1,
   "metadata": {},
   "outputs": [],
   "source": [
    "# import\n",
    "import pandas as pd\n",
    "import numpy as np"
   ]
  },
  {
   "cell_type": "code",
   "execution_count": 2,
   "metadata": {},
   "outputs": [
    {
     "data": {
      "text/html": [
       "<div>\n",
       "<style scoped>\n",
       "    .dataframe tbody tr th:only-of-type {\n",
       "        vertical-align: middle;\n",
       "    }\n",
       "\n",
       "    .dataframe tbody tr th {\n",
       "        vertical-align: top;\n",
       "    }\n",
       "\n",
       "    .dataframe thead th {\n",
       "        text-align: right;\n",
       "    }\n",
       "</style>\n",
       "<table border=\"1\" class=\"dataframe\">\n",
       "  <thead>\n",
       "    <tr style=\"text-align: right;\">\n",
       "      <th></th>\n",
       "      <th>매장명</th>\n",
       "      <th>위도</th>\n",
       "      <th>경도</th>\n",
       "      <th>매장타입</th>\n",
       "      <th>주소</th>\n",
       "    </tr>\n",
       "  </thead>\n",
       "  <tbody>\n",
       "    <tr>\n",
       "      <th>0</th>\n",
       "      <td>금정남산동DT</td>\n",
       "      <td>35.262466</td>\n",
       "      <td>129.091353</td>\n",
       "      <td>generalDT</td>\n",
       "      <td>부산광역시 금정구 중앙대로 1989 (남산동)</td>\n",
       "    </tr>\n",
       "  </tbody>\n",
       "</table>\n",
       "</div>"
      ],
      "text/plain": [
       "         매장명         위도          경도       매장타입                         주소\n",
       "0  금정남산동DT    35.262466  129.091353  generalDT  부산광역시 금정구 중앙대로 1989 (남산동)"
      ]
     },
     "execution_count": 2,
     "metadata": {},
     "output_type": "execute_result"
    }
   ],
   "source": [
    "# 스타벅스 매장리스트\n",
    "sbuck_df = pd.read_excel('./seoul_starbuks.xlsx', header=0)\n",
    "sbuck_df"
   ]
  },
  {
   "cell_type": "code",
   "execution_count": 7,
   "metadata": {},
   "outputs": [
    {
     "data": {
      "text/plain": [
       "'금정구'"
      ]
     },
     "execution_count": 7,
     "metadata": {},
     "output_type": "execute_result"
    }
   ],
   "source": [
    "sbuck_df['주소'][0].split()[1]"
   ]
  },
  {
   "cell_type": "code",
   "execution_count": 8,
   "metadata": {},
   "outputs": [
    {
     "data": {
      "text/html": [
       "<div>\n",
       "<style scoped>\n",
       "    .dataframe tbody tr th:only-of-type {\n",
       "        vertical-align: middle;\n",
       "    }\n",
       "\n",
       "    .dataframe tbody tr th {\n",
       "        vertical-align: top;\n",
       "    }\n",
       "\n",
       "    .dataframe thead th {\n",
       "        text-align: right;\n",
       "    }\n",
       "</style>\n",
       "<table border=\"1\" class=\"dataframe\">\n",
       "  <thead>\n",
       "    <tr style=\"text-align: right;\">\n",
       "      <th></th>\n",
       "      <th>매장명</th>\n",
       "      <th>위도</th>\n",
       "      <th>경도</th>\n",
       "      <th>매장타입</th>\n",
       "      <th>주소</th>\n",
       "      <th>구</th>\n",
       "    </tr>\n",
       "  </thead>\n",
       "  <tbody>\n",
       "    <tr>\n",
       "      <th>0</th>\n",
       "      <td>금정남산동DT</td>\n",
       "      <td>35.262466</td>\n",
       "      <td>129.091353</td>\n",
       "      <td>generalDT</td>\n",
       "      <td>부산광역시 금정구 중앙대로 1989 (남산동)</td>\n",
       "      <td>금정구</td>\n",
       "    </tr>\n",
       "  </tbody>\n",
       "</table>\n",
       "</div>"
      ],
      "text/plain": [
       "         매장명         위도          경도       매장타입                         주소    구\n",
       "0  금정남산동DT    35.262466  129.091353  generalDT  부산광역시 금정구 중앙대로 1989 (남산동)  금정구"
      ]
     },
     "execution_count": 8,
     "metadata": {},
     "output_type": "execute_result"
    }
   ],
   "source": [
    "gu_list = []\n",
    "for item in sbuck_df['주소']:\n",
    "    gu = item.split()[1]\n",
    "    gu_list.append(gu)\n",
    "\n",
    "sbuck_df['구'] = gu_list\n",
    "sbuck_df.head(1)"
   ]
  },
  {
   "attachments": {},
   "cell_type": "markdown",
   "metadata": {},
   "source": [
    "#### 서울시 행정구역별 위경도 전처리\n",
    "\n",
    "- 대한민국 행정구역 위경도 엑셀파일에서 서울만 필터링"
   ]
  },
  {
   "cell_type": "code",
   "execution_count": 9,
   "metadata": {},
   "outputs": [
    {
     "data": {
      "text/html": [
       "<div>\n",
       "<style scoped>\n",
       "    .dataframe tbody tr th:only-of-type {\n",
       "        vertical-align: middle;\n",
       "    }\n",
       "\n",
       "    .dataframe tbody tr th {\n",
       "        vertical-align: top;\n",
       "    }\n",
       "\n",
       "    .dataframe thead th {\n",
       "        text-align: right;\n",
       "    }\n",
       "</style>\n",
       "<table border=\"1\" class=\"dataframe\">\n",
       "  <thead>\n",
       "    <tr style=\"text-align: right;\">\n",
       "      <th></th>\n",
       "      <th>docity</th>\n",
       "      <th>do</th>\n",
       "      <th>city</th>\n",
       "      <th>longitude</th>\n",
       "      <th>latitude</th>\n",
       "    </tr>\n",
       "  </thead>\n",
       "  <tbody>\n",
       "    <tr>\n",
       "      <th>0</th>\n",
       "      <td>강원강릉시</td>\n",
       "      <td>강원</td>\n",
       "      <td>강릉시</td>\n",
       "      <td>128.878497</td>\n",
       "      <td>37.749136</td>\n",
       "    </tr>\n",
       "    <tr>\n",
       "      <th>1</th>\n",
       "      <td>강원고성군</td>\n",
       "      <td>강원</td>\n",
       "      <td>고성군</td>\n",
       "      <td>128.470164</td>\n",
       "      <td>38.377961</td>\n",
       "    </tr>\n",
       "    <tr>\n",
       "      <th>2</th>\n",
       "      <td>강원동해시</td>\n",
       "      <td>강원</td>\n",
       "      <td>동해시</td>\n",
       "      <td>129.116633</td>\n",
       "      <td>37.521931</td>\n",
       "    </tr>\n",
       "    <tr>\n",
       "      <th>3</th>\n",
       "      <td>강원삼척시</td>\n",
       "      <td>강원</td>\n",
       "      <td>삼척시</td>\n",
       "      <td>129.167489</td>\n",
       "      <td>37.447086</td>\n",
       "    </tr>\n",
       "    <tr>\n",
       "      <th>4</th>\n",
       "      <td>강원속초시</td>\n",
       "      <td>강원</td>\n",
       "      <td>속초시</td>\n",
       "      <td>128.594167</td>\n",
       "      <td>38.204275</td>\n",
       "    </tr>\n",
       "    <tr>\n",
       "      <th>...</th>\n",
       "      <td>...</td>\n",
       "      <td>...</td>\n",
       "      <td>...</td>\n",
       "      <td>...</td>\n",
       "      <td>...</td>\n",
       "    </tr>\n",
       "    <tr>\n",
       "      <th>290</th>\n",
       "      <td>충청충주시</td>\n",
       "      <td>충청</td>\n",
       "      <td>충주시</td>\n",
       "      <td>127.928144</td>\n",
       "      <td>36.988181</td>\n",
       "    </tr>\n",
       "    <tr>\n",
       "      <th>291</th>\n",
       "      <td>충청태안군</td>\n",
       "      <td>충청</td>\n",
       "      <td>태안군</td>\n",
       "      <td>126.299975</td>\n",
       "      <td>36.742667</td>\n",
       "    </tr>\n",
       "    <tr>\n",
       "      <th>292</th>\n",
       "      <td>충청한누리대로</td>\n",
       "      <td>충청</td>\n",
       "      <td>한누리대로</td>\n",
       "      <td>127.289926</td>\n",
       "      <td>36.485450</td>\n",
       "    </tr>\n",
       "    <tr>\n",
       "      <th>293</th>\n",
       "      <td>충청홍성군</td>\n",
       "      <td>충청</td>\n",
       "      <td>홍성군</td>\n",
       "      <td>126.662908</td>\n",
       "      <td>36.598361</td>\n",
       "    </tr>\n",
       "    <tr>\n",
       "      <th>294</th>\n",
       "      <td>충청대전시</td>\n",
       "      <td>충청</td>\n",
       "      <td>대전시</td>\n",
       "      <td>127.384862</td>\n",
       "      <td>36.350630</td>\n",
       "    </tr>\n",
       "  </tbody>\n",
       "</table>\n",
       "<p>295 rows × 5 columns</p>\n",
       "</div>"
      ],
      "text/plain": [
       "      docity  do   city   longitude   latitude\n",
       "0      강원강릉시  강원    강릉시  128.878497  37.749136\n",
       "1      강원고성군  강원    고성군  128.470164  38.377961\n",
       "2      강원동해시  강원    동해시  129.116633  37.521931\n",
       "3      강원삼척시  강원    삼척시  129.167489  37.447086\n",
       "4      강원속초시  강원    속초시  128.594167  38.204275\n",
       "..       ...  ..    ...         ...        ...\n",
       "290    충청충주시  충청    충주시  127.928144  36.988181\n",
       "291    충청태안군  충청    태안군  126.299975  36.742667\n",
       "292  충청한누리대로  충청  한누리대로  127.289926  36.485450\n",
       "293    충청홍성군  충청    홍성군  126.662908  36.598361\n",
       "294    충청대전시  충청    대전시  127.384862  36.350630\n",
       "\n",
       "[295 rows x 5 columns]"
      ]
     },
     "execution_count": 9,
     "metadata": {},
     "output_type": "execute_result"
    }
   ],
   "source": [
    "seoul_loc_dc = pd.read_excel('./대한민국_행정구역_위경도.xlsx')\n",
    "seoul_loc_dc"
   ]
  },
  {
   "cell_type": "code",
   "execution_count": 10,
   "metadata": {},
   "outputs": [
    {
     "data": {
      "text/html": [
       "<div>\n",
       "<style scoped>\n",
       "    .dataframe tbody tr th:only-of-type {\n",
       "        vertical-align: middle;\n",
       "    }\n",
       "\n",
       "    .dataframe tbody tr th {\n",
       "        vertical-align: top;\n",
       "    }\n",
       "\n",
       "    .dataframe thead th {\n",
       "        text-align: right;\n",
       "    }\n",
       "</style>\n",
       "<table border=\"1\" class=\"dataframe\">\n",
       "  <thead>\n",
       "    <tr style=\"text-align: right;\">\n",
       "      <th></th>\n",
       "      <th>docity</th>\n",
       "      <th>do</th>\n",
       "      <th>city</th>\n",
       "      <th>longitude</th>\n",
       "      <th>latitude</th>\n",
       "    </tr>\n",
       "  </thead>\n",
       "  <tbody>\n",
       "    <tr>\n",
       "      <th>138</th>\n",
       "      <td>서울강남구</td>\n",
       "      <td>서울</td>\n",
       "      <td>강남구</td>\n",
       "      <td>127.049556</td>\n",
       "      <td>37.514575</td>\n",
       "    </tr>\n",
       "    <tr>\n",
       "      <th>139</th>\n",
       "      <td>서울강동구</td>\n",
       "      <td>서울</td>\n",
       "      <td>강동구</td>\n",
       "      <td>127.125864</td>\n",
       "      <td>37.527367</td>\n",
       "    </tr>\n",
       "    <tr>\n",
       "      <th>140</th>\n",
       "      <td>서울강북구</td>\n",
       "      <td>서울</td>\n",
       "      <td>강북구</td>\n",
       "      <td>127.027719</td>\n",
       "      <td>37.636956</td>\n",
       "    </tr>\n",
       "    <tr>\n",
       "      <th>141</th>\n",
       "      <td>서울강서구</td>\n",
       "      <td>서울</td>\n",
       "      <td>강서구</td>\n",
       "      <td>126.851675</td>\n",
       "      <td>37.548156</td>\n",
       "    </tr>\n",
       "    <tr>\n",
       "      <th>142</th>\n",
       "      <td>서울관악구</td>\n",
       "      <td>서울</td>\n",
       "      <td>관악구</td>\n",
       "      <td>126.953844</td>\n",
       "      <td>37.475386</td>\n",
       "    </tr>\n",
       "  </tbody>\n",
       "</table>\n",
       "</div>"
      ],
      "text/plain": [
       "    docity  do city   longitude   latitude\n",
       "138  서울강남구  서울  강남구  127.049556  37.514575\n",
       "139  서울강동구  서울  강동구  127.125864  37.527367\n",
       "140  서울강북구  서울  강북구  127.027719  37.636956\n",
       "141  서울강서구  서울  강서구  126.851675  37.548156\n",
       "142  서울관악구  서울  관악구  126.953844  37.475386"
      ]
     },
     "execution_count": 10,
     "metadata": {},
     "output_type": "execute_result"
    }
   ],
   "source": [
    "seoul_loc_dc = seoul_loc_dc[seoul_loc_dc['do'] == '서울']\n",
    "seoul_loc_dc.head()"
   ]
  },
  {
   "cell_type": "code",
   "execution_count": 11,
   "metadata": {},
   "outputs": [
    {
     "name": "stdout",
     "output_type": "stream",
     "text": [
      "<class 'pandas.core.frame.DataFrame'>\n",
      "Index: 25 entries, 138 to 162\n",
      "Data columns (total 5 columns):\n",
      " #   Column     Non-Null Count  Dtype  \n",
      "---  ------     --------------  -----  \n",
      " 0   docity     25 non-null     object \n",
      " 1   do         25 non-null     object \n",
      " 2   city       25 non-null     object \n",
      " 3   longitude  25 non-null     float64\n",
      " 4   latitude   25 non-null     float64\n",
      "dtypes: float64(2), object(3)\n",
      "memory usage: 1.2+ KB\n"
     ]
    }
   ],
   "source": [
    "seoul_loc_dc.info()"
   ]
  },
  {
   "cell_type": "code",
   "execution_count": 12,
   "metadata": {},
   "outputs": [],
   "source": [
    "seoul_loc_dc.to_excel('./seoul_gu_info.xlsx', index=False)"
   ]
  },
  {
   "attachments": {},
   "cell_type": "markdown",
   "metadata": {},
   "source": [
    "#### 서울시 구별 스타번스 매장수 구하기"
   ]
  },
  {
   "cell_type": "code",
   "execution_count": 15,
   "metadata": {},
   "outputs": [
    {
     "data": {
      "text/html": [
       "<div>\n",
       "<style scoped>\n",
       "    .dataframe tbody tr th:only-of-type {\n",
       "        vertical-align: middle;\n",
       "    }\n",
       "\n",
       "    .dataframe tbody tr th {\n",
       "        vertical-align: top;\n",
       "    }\n",
       "\n",
       "    .dataframe thead th {\n",
       "        text-align: right;\n",
       "    }\n",
       "</style>\n",
       "<table border=\"1\" class=\"dataframe\">\n",
       "  <thead>\n",
       "    <tr style=\"text-align: right;\">\n",
       "      <th></th>\n",
       "      <th>스타벅스_매장수</th>\n",
       "    </tr>\n",
       "    <tr>\n",
       "      <th>구</th>\n",
       "      <th></th>\n",
       "    </tr>\n",
       "  </thead>\n",
       "  <tbody>\n",
       "    <tr>\n",
       "      <th>금정구</th>\n",
       "      <td>1</td>\n",
       "    </tr>\n",
       "  </tbody>\n",
       "</table>\n",
       "</div>"
      ],
      "text/plain": [
       "     스타벅스_매장수\n",
       "구            \n",
       "금정구         1"
      ]
     },
     "execution_count": 15,
     "metadata": {},
     "output_type": "execute_result"
    }
   ],
   "source": [
    "sbuck_gu_counts= sbuck_df.pivot_table(index='구',\n",
    "                     values='매장명',\n",
    "                     aggfunc='count').rename(columns={'매장명': '스타벅스_매장수'})\n",
    "sbuck_gu_counts.head()"
   ]
  },
  {
   "cell_type": "code",
   "execution_count": null,
   "metadata": {},
   "outputs": [],
   "source": [
    "# seoul_gu_df 수정\n",
    "seoul_gu_df[['do','city','latitude','longitude']]\n",
    "colums = ({'do':'도','city':'구', 'latitude':'위도', 'longitude':'경도'})"
   ]
  },
  {
   "cell_type": "code",
   "execution_count": null,
   "metadata": {},
   "outputs": [],
   "source": [
    "seoul_gu_df = seoul_df_gu[['도',]]"
   ]
  },
  {
   "attachments": {},
   "cell_type": "markdown",
   "metadata": {},
   "source": [
    "#### 데이터 시각화"
   ]
  },
  {
   "cell_type": "code",
   "execution_count": 16,
   "metadata": {},
   "outputs": [
    {
     "data": {
      "text/html": [
       "<div>\n",
       "<style scoped>\n",
       "    .dataframe tbody tr th:only-of-type {\n",
       "        vertical-align: middle;\n",
       "    }\n",
       "\n",
       "    .dataframe tbody tr th {\n",
       "        vertical-align: top;\n",
       "    }\n",
       "\n",
       "    .dataframe thead th {\n",
       "        text-align: right;\n",
       "    }\n",
       "</style>\n",
       "<table border=\"1\" class=\"dataframe\">\n",
       "  <thead>\n",
       "    <tr style=\"text-align: right;\">\n",
       "      <th></th>\n",
       "      <th>매장명</th>\n",
       "      <th>위도</th>\n",
       "      <th>경도</th>\n",
       "      <th>매장타입</th>\n",
       "      <th>주소</th>\n",
       "      <th>구</th>\n",
       "    </tr>\n",
       "  </thead>\n",
       "  <tbody>\n",
       "    <tr>\n",
       "      <th>0</th>\n",
       "      <td>금정남산동DT</td>\n",
       "      <td>35.262466</td>\n",
       "      <td>129.091353</td>\n",
       "      <td>generalDT</td>\n",
       "      <td>부산광역시 금정구 중앙대로 1989 (남산동)</td>\n",
       "      <td>금정구</td>\n",
       "    </tr>\n",
       "  </tbody>\n",
       "</table>\n",
       "</div>"
      ],
      "text/plain": [
       "         매장명         위도          경도       매장타입                         주소    구\n",
       "0  금정남산동DT    35.262466  129.091353  generalDT  부산광역시 금정구 중앙대로 1989 (남산동)  금정구"
      ]
     },
     "execution_count": 16,
     "metadata": {},
     "output_type": "execute_result"
    }
   ],
   "source": [
    "sbuck_df.tail()"
   ]
  },
  {
   "cell_type": "code",
   "execution_count": null,
   "metadata": {},
   "outputs": [],
   "source": [
    "sbuck_map = folium.Map(location=)"
   ]
  },
  {
   "cell_type": "code",
   "execution_count": null,
   "metadata": {},
   "outputs": [],
   "source": [
    "sbuck_map2 = folium.Map(location=[37.550823, 126.989502])"
   ]
  },
  {
   "cell_type": "code",
   "execution_count": null,
   "metadata": {},
   "outputs": [],
   "source": [
    "## 시군구 경계 표시\n",
    "sgg_geojson_path = './seou_geo_simple.json'\n",
    "seoul_sgg_geo = json.load(open(sgg_geojson_path, encoding='utf-8'))\n",
    "\n",
    "sbuck_map3 = folium.Map(location[37.550823, 126.989502], titls='Stamen Toner', zoom_start=11)\n",
    "\n",
    "folium.GeoJson(seoul_sgg_geo, Name='seoul행정구역').add_to(stuck_map3)\n",
    "\n",
    "sbuck_map3"
   ]
  },
  {
   "cell_type": "code",
   "execution_count": null,
   "metadata": {},
   "outputs": [],
   "source": [
    "sbuck_mean = seoul_sgg_start['스타벅스_매장수'].mean()\n",
    "sbuck_mean"
   ]
  },
  {
   "cell_type": "code",
   "execution_count": null,
   "metadata": {},
   "outputs": [],
   "source": []
  }
 ],
 "metadata": {
  "kernelspec": {
   "display_name": "Python 3",
   "language": "python",
   "name": "python3"
  },
  "language_info": {
   "codemirror_mode": {
    "name": "ipython",
    "version": 3
   },
   "file_extension": ".py",
   "mimetype": "text/x-python",
   "name": "python",
   "nbconvert_exporter": "python",
   "pygments_lexer": "ipython3",
   "version": "3.11.4"
  },
  "orig_nbformat": 4,
  "vscode": {
   "interpreter": {
    "hash": "5238573367df39f7286bb46f9ff5f08f63a01a80960060ce41e3c79b190280fa"
   }
  }
 },
 "nbformat": 4,
 "nbformat_minor": 2
}
